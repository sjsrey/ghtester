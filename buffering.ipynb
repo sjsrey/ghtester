{
 "cells": [
  {
   "cell_type": "markdown",
   "id": "de08d182",
   "metadata": {},
   "source": [
    "# Buffering"
   ]
  },
  {
   "cell_type": "code",
   "execution_count": null,
   "id": "8ed8211e",
   "metadata": {},
   "outputs": [],
   "source": [
    "import geopandas\n",
    "import matplotlib.pyplot as plt\n",
    "plt.rcParams['figure.figsize'] = [12, 8]"
   ]
  },
  {
   "cell_type": "code",
   "execution_count": null,
   "id": "52205d79",
   "metadata": {},
   "outputs": [],
   "source": [
    "triangle = ((0,0), (2,2), (4,0))\n",
    "from  shapely.geometry import Polygon, Point"
   ]
  },
  {
   "cell_type": "code",
   "execution_count": null,
   "id": "5af65f38",
   "metadata": {},
   "outputs": [],
   "source": [
    "triangle = Polygon(triangle)"
   ]
  },
  {
   "cell_type": "code",
   "execution_count": null,
   "id": "b0612353",
   "metadata": {},
   "outputs": [],
   "source": [
    "triangle"
   ]
  },
  {
   "cell_type": "code",
   "execution_count": null,
   "id": "3f198265",
   "metadata": {},
   "outputs": [],
   "source": [
    "buffer = triangle.buffer(1)"
   ]
  },
  {
   "cell_type": "code",
   "execution_count": null,
   "id": "cdc81ac4",
   "metadata": {},
   "outputs": [],
   "source": [
    "buffer"
   ]
  },
  {
   "cell_type": "code",
   "execution_count": null,
   "id": "7383133c",
   "metadata": {},
   "outputs": [],
   "source": [
    "point = Point(4.5, 0)"
   ]
  },
  {
   "cell_type": "code",
   "execution_count": null,
   "id": "8caacfab",
   "metadata": {},
   "outputs": [],
   "source": [
    "point"
   ]
  },
  {
   "cell_type": "code",
   "execution_count": null,
   "id": "feb4f32b",
   "metadata": {},
   "outputs": [],
   "source": [
    "point.intersects(triangle)"
   ]
  },
  {
   "cell_type": "code",
   "execution_count": null,
   "id": "83c6f286",
   "metadata": {},
   "outputs": [],
   "source": []
  },
  {
   "cell_type": "code",
   "execution_count": null,
   "id": "cb552196",
   "metadata": {},
   "outputs": [],
   "source": [
    "point.intersects(buffer)"
   ]
  },
  {
   "cell_type": "code",
   "execution_count": null,
   "id": "3523e17b",
   "metadata": {},
   "outputs": [],
   "source": [
    "point_1 = Point((10,10))\n",
    "point_2 = Point((20, 10))"
   ]
  },
  {
   "cell_type": "code",
   "execution_count": null,
   "id": "d7daaf00",
   "metadata": {},
   "outputs": [],
   "source": [
    "poly_1 = point_1.buffer(6)\n",
    "poly_2 = point_2.buffer(6)"
   ]
  },
  {
   "cell_type": "code",
   "execution_count": null,
   "id": "86eb2528",
   "metadata": {},
   "outputs": [],
   "source": [
    "poly_1"
   ]
  },
  {
   "cell_type": "code",
   "execution_count": null,
   "id": "c6c2f370",
   "metadata": {},
   "outputs": [],
   "source": [
    "type(poly_1)"
   ]
  },
  {
   "cell_type": "code",
   "execution_count": null,
   "id": "67f2dfd9",
   "metadata": {},
   "outputs": [],
   "source": [
    "type(point_1)"
   ]
  },
  {
   "cell_type": "code",
   "execution_count": null,
   "id": "56b18ff6",
   "metadata": {},
   "outputs": [],
   "source": [
    "poly_2.contains(point_1)"
   ]
  },
  {
   "cell_type": "code",
   "execution_count": null,
   "id": "cbcef101",
   "metadata": {},
   "outputs": [],
   "source": [
    "poly_1.contains(point_1)"
   ]
  },
  {
   "cell_type": "markdown",
   "id": "4e5f241f",
   "metadata": {},
   "source": [
    "## Clinics and Tracts "
   ]
  },
  {
   "cell_type": "code",
   "execution_count": null,
   "id": "6371b5b3",
   "metadata": {},
   "outputs": [],
   "source": [
    "clinics_df = geopandas.read_file('data/behavioralHealth.shp')"
   ]
  },
  {
   "cell_type": "code",
   "execution_count": null,
   "id": "75f7da9a",
   "metadata": {},
   "outputs": [],
   "source": [
    "clinics_df.plot()"
   ]
  },
  {
   "cell_type": "code",
   "execution_count": null,
   "id": "afdf615a",
   "metadata": {},
   "outputs": [],
   "source": [
    "clinics_df.crs"
   ]
  },
  {
   "cell_type": "code",
   "execution_count": null,
   "id": "1278062e",
   "metadata": {},
   "outputs": [],
   "source": [
    "tracts_df = geopandas.read_file('data/california_tracts.shp')"
   ]
  },
  {
   "cell_type": "code",
   "execution_count": null,
   "id": "8ef77552",
   "metadata": {},
   "outputs": [],
   "source": [
    "tracts_df.plot()"
   ]
  },
  {
   "cell_type": "code",
   "execution_count": null,
   "id": "119b3ea0",
   "metadata": {},
   "outputs": [],
   "source": [
    "tracts_df.crs"
   ]
  },
  {
   "cell_type": "code",
   "execution_count": null,
   "id": "3deb3761",
   "metadata": {},
   "outputs": [],
   "source": [
    "tracts_df.to_crs(clinics_df.crs).plot()"
   ]
  },
  {
   "cell_type": "code",
   "execution_count": null,
   "id": "4ab02911",
   "metadata": {},
   "outputs": [],
   "source": [
    "projected_tracts_df = tracts_df.to_crs(clinics_df.crs)"
   ]
  },
  {
   "cell_type": "code",
   "execution_count": null,
   "id": "cb38c67b",
   "metadata": {},
   "outputs": [],
   "source": [
    "projected_tracts_df.crs"
   ]
  },
  {
   "cell_type": "code",
   "execution_count": null,
   "id": "29a478b7",
   "metadata": {},
   "outputs": [],
   "source": [
    "projected_tracts_df.head()"
   ]
  },
  {
   "cell_type": "markdown",
   "id": "aa5ea956",
   "metadata": {},
   "source": [
    "FIPS: https://www.weather.gov/hnx/cafips"
   ]
  },
  {
   "cell_type": "code",
   "execution_count": null,
   "id": "7987adb8",
   "metadata": {},
   "outputs": [],
   "source": [
    "riverside_tracts = projected_tracts_df[projected_tracts_df.GEOID10.str.startswith('06065')]"
   ]
  },
  {
   "cell_type": "code",
   "execution_count": null,
   "id": "fdd40d0d",
   "metadata": {},
   "outputs": [],
   "source": [
    "riverside_tracts.plot()"
   ]
  },
  {
   "cell_type": "code",
   "execution_count": null,
   "id": "c0a4fc55",
   "metadata": {},
   "outputs": [],
   "source": [
    "centroids = riverside_tracts.geometry.centroid # tract centroids"
   ]
  },
  {
   "cell_type": "code",
   "execution_count": null,
   "id": "4d1c63f7",
   "metadata": {},
   "outputs": [],
   "source": [
    "centroids.plot()"
   ]
  },
  {
   "cell_type": "code",
   "execution_count": null,
   "id": "3f94577f",
   "metadata": {},
   "outputs": [],
   "source": [
    "base = centroids.plot()\n",
    "clinics_df.plot(ax=base)"
   ]
  },
  {
   "cell_type": "code",
   "execution_count": null,
   "id": "5a0921f9",
   "metadata": {},
   "outputs": [],
   "source": [
    "clinic_buffer_3000 = clinics_df.buffer(3000)"
   ]
  },
  {
   "cell_type": "code",
   "execution_count": null,
   "id": "e137cf78",
   "metadata": {},
   "outputs": [],
   "source": [
    "base = clinic_buffer_3000.plot()\n",
    "clinics_df.plot(ax=base, color='red')"
   ]
  },
  {
   "cell_type": "code",
   "execution_count": null,
   "id": "7fe6bd00",
   "metadata": {},
   "outputs": [],
   "source": [
    "clinic_buffer_3000.geometry"
   ]
  },
  {
   "cell_type": "code",
   "execution_count": null,
   "id": "49f17156",
   "metadata": {},
   "outputs": [],
   "source": [
    "base = clinic_buffer_3000.plot()\n",
    "clinics_df.plot(ax=base, color='red')"
   ]
  },
  {
   "cell_type": "markdown",
   "id": "71752f4f",
   "metadata": {},
   "source": [
    "## What tracts intersect with one or more clinic buffers?"
   ]
  },
  {
   "cell_type": "code",
   "execution_count": null,
   "id": "8a959dae",
   "metadata": {},
   "outputs": [],
   "source": [
    "centroids = geopandas.GeoDataFrame(geometry=centroids)\n",
    "clinic_buffer_3000 = geopandas.GeoDataFrame(geometry=clinic_buffer_3000)\n",
    "centroids_intersecting = geopandas.sjoin(centroids, clinic_buffer_3000, how='inner', op='intersects')"
   ]
  },
  {
   "cell_type": "code",
   "execution_count": null,
   "id": "17d12153",
   "metadata": {},
   "outputs": [],
   "source": [
    "centroids_intersecting.head()"
   ]
  },
  {
   "cell_type": "code",
   "execution_count": null,
   "id": "07856e1b",
   "metadata": {},
   "outputs": [],
   "source": [
    "centroids_intersecting.shape"
   ]
  },
  {
   "cell_type": "code",
   "execution_count": null,
   "id": "d7f83cc6",
   "metadata": {},
   "outputs": [],
   "source": [
    "tracts_intersecting = geopandas.sjoin(riverside_tracts, clinic_buffer_3000, how='inner', op='intersects')"
   ]
  },
  {
   "cell_type": "code",
   "execution_count": null,
   "id": "5eaf524d",
   "metadata": {},
   "outputs": [],
   "source": [
    "tracts_intersecting.head()"
   ]
  },
  {
   "cell_type": "code",
   "execution_count": null,
   "id": "b82130f8",
   "metadata": {},
   "outputs": [],
   "source": [
    "tracts_intersecting.shape"
   ]
  },
  {
   "cell_type": "markdown",
   "id": "e30879f9",
   "metadata": {},
   "source": [
    "There are 132 cases of a tract intersecting a clinic buffer"
   ]
  },
  {
   "cell_type": "markdown",
   "id": "926220c9",
   "metadata": {},
   "source": [
    "## Create a new attribute for the tracts reporting the number of clinics within 3000 feet of the tract polygon"
   ]
  },
  {
   "cell_type": "code",
   "execution_count": null,
   "id": "aaaecdc8",
   "metadata": {},
   "outputs": [],
   "source": [
    "tracts_intersecting.groupby(by='GEOID10').count()"
   ]
  },
  {
   "cell_type": "code",
   "execution_count": null,
   "id": "afdc001a",
   "metadata": {},
   "outputs": [],
   "source": [
    "riverside_tracts.merge(tracts_intersecting.groupby(by='GEOID10').count()['index_right'], on=\"GEOID10\")"
   ]
  },
  {
   "cell_type": "code",
   "execution_count": null,
   "id": "fe01ca54",
   "metadata": {},
   "outputs": [],
   "source": [
    "riverside_tracts.merge(tracts_intersecting.groupby(by='GEOID10').count()['index_right'], on=\"GEOID10\", how='left')"
   ]
  },
  {
   "cell_type": "code",
   "execution_count": null,
   "id": "c918302b",
   "metadata": {},
   "outputs": [],
   "source": [
    "riverside_tracts.shape"
   ]
  },
  {
   "cell_type": "markdown",
   "id": "1686a175",
   "metadata": {},
   "source": [
    "So the left merge makes sure all the original tracts are included in the merge, even if they do not intersect with a buffer. In those cases a `NaN` is inserted.\n",
    "\n",
    "We can replace the `NaN` values with `0`s."
   ]
  },
  {
   "cell_type": "code",
   "execution_count": null,
   "id": "1ae94e7b",
   "metadata": {},
   "outputs": [],
   "source": [
    "riverside_tracts.merge(tracts_intersecting.groupby(by='GEOID10').count()['index_right'], on=\"GEOID10\", how='left').fillna(0)"
   ]
  },
  {
   "cell_type": "code",
   "execution_count": null,
   "id": "f92feee9",
   "metadata": {},
   "outputs": [],
   "source": [
    "riverside_tracts.merge(tracts_intersecting.groupby(by='GEOID10').count()['index_right'], on=\"GEOID10\", how='left').fillna(0).rename(columns={'index_right':'clinics'})"
   ]
  },
  {
   "cell_type": "code",
   "execution_count": null,
   "id": "8e4cfd7d",
   "metadata": {},
   "outputs": [],
   "source": [
    "riverside_tracts_clinics = riverside_tracts.merge(tracts_intersecting.groupby(by='GEOID10').count()['index_right'], on=\"GEOID10\", how='left').fillna(0).rename(columns={'index_right':'clinics'})"
   ]
  },
  {
   "cell_type": "code",
   "execution_count": null,
   "id": "2fbf56e1",
   "metadata": {},
   "outputs": [],
   "source": [
    "riverside_tracts_clinics.plot(column='clinics', scheme='Quantiles')"
   ]
  },
  {
   "cell_type": "code",
   "execution_count": null,
   "id": "484a1c12",
   "metadata": {},
   "outputs": [],
   "source": [
    "riverside_tracts_clinics.plot(column='clinics', scheme='FisherJenks', k=5, legend=True)"
   ]
  },
  {
   "cell_type": "markdown",
   "id": "0313f258",
   "metadata": {},
   "source": [
    "## Order matters\n",
    "\n",
    "Note that it could be that a single clinic buffer intersects with more than a single tract."
   ]
  },
  {
   "cell_type": "code",
   "execution_count": null,
   "id": "127094b1",
   "metadata": {},
   "outputs": [],
   "source": [
    "clinics_intersecting = geopandas.sjoin(clinic_buffer_3000, riverside_tracts, how='left', op='intersects')"
   ]
  },
  {
   "cell_type": "code",
   "execution_count": null,
   "id": "d382f8eb",
   "metadata": {},
   "outputs": [],
   "source": [
    "clinics_intersecting.shape"
   ]
  },
  {
   "cell_type": "code",
   "execution_count": null,
   "id": "aa63edfc",
   "metadata": {},
   "outputs": [],
   "source": [
    "clinics_df.shape"
   ]
  },
  {
   "cell_type": "markdown",
   "id": "7ac864b3",
   "metadata": {},
   "source": [
    "There are only 28 clinics, each with a buffer. But there are 132 intersections involving a buffer and a tract"
   ]
  },
  {
   "cell_type": "code",
   "execution_count": null,
   "id": "4942edd2",
   "metadata": {},
   "outputs": [],
   "source": [
    "clinics_intersecting.head()"
   ]
  },
  {
   "cell_type": "markdown",
   "id": "fc6f45fc",
   "metadata": {},
   "source": [
    "here the index is the index of the clinic buffer, and we see the first index, 0, repeats 4 times."
   ]
  },
  {
   "cell_type": "code",
   "execution_count": null,
   "id": "93738f13",
   "metadata": {},
   "outputs": [],
   "source": [
    "clinics_intersecting['clinic'] = clinics_intersecting.index\n",
    "clinics_intersecting.reset_index(level=0, inplace=True)"
   ]
  },
  {
   "cell_type": "code",
   "execution_count": null,
   "id": "d348610f",
   "metadata": {},
   "outputs": [],
   "source": [
    "clinics_intersecting.head()"
   ]
  },
  {
   "cell_type": "code",
   "execution_count": null,
   "id": "30b3eec9",
   "metadata": {},
   "outputs": [],
   "source": [
    "clinics_intersecting.groupby(by='index').count()"
   ]
  },
  {
   "cell_type": "code",
   "execution_count": null,
   "id": "0fcf4292",
   "metadata": {},
   "outputs": [],
   "source": []
  },
  {
   "cell_type": "code",
   "execution_count": null,
   "id": "13978b1e",
   "metadata": {},
   "outputs": [],
   "source": []
  },
  {
   "cell_type": "code",
   "execution_count": null,
   "id": "31d10799",
   "metadata": {},
   "outputs": [],
   "source": [
    "clinics_intersecting = clinics_intersecting.groupby(by='index').count()"
   ]
  },
  {
   "cell_type": "code",
   "execution_count": null,
   "id": "fff6d215",
   "metadata": {},
   "outputs": [],
   "source": [
    "clinics_intersecting.head()"
   ]
  },
  {
   "cell_type": "code",
   "execution_count": null,
   "id": "2794f6aa",
   "metadata": {},
   "outputs": [],
   "source": [
    "clinics_intersecting['tracts'] = clinics_intersecting.index_right"
   ]
  },
  {
   "cell_type": "code",
   "execution_count": null,
   "id": "918645ef",
   "metadata": {},
   "outputs": [],
   "source": [
    "clinics_intersecting.head()"
   ]
  },
  {
   "cell_type": "code",
   "execution_count": null,
   "id": "b3bbf760",
   "metadata": {},
   "outputs": [],
   "source": [
    "clinics_df.merge(clinics_intersecting[['tracts']], left_index=True, right_index=True)"
   ]
  },
  {
   "cell_type": "code",
   "execution_count": null,
   "id": "374b1f67",
   "metadata": {},
   "outputs": [],
   "source": [
    "clinics_df = clinics_df.merge(clinics_intersecting[['tracts']], left_index=True, right_index=True)"
   ]
  },
  {
   "cell_type": "code",
   "execution_count": null,
   "id": "8a301061",
   "metadata": {},
   "outputs": [],
   "source": [
    "clinics_df.plot(column='tracts', scheme='Quantiles', k=3, legend=True)"
   ]
  },
  {
   "cell_type": "code",
   "execution_count": null,
   "id": "4986f828",
   "metadata": {},
   "outputs": [],
   "source": []
  }
 ],
 "metadata": {
  "kernelspec": {
   "display_name": "Python 3",
   "language": "python",
   "name": "python3"
  },
  "language_info": {
   "codemirror_mode": {
    "name": "ipython",
    "version": 3
   },
   "file_extension": ".py",
   "mimetype": "text/x-python",
   "name": "python",
   "nbconvert_exporter": "python",
   "pygments_lexer": "ipython3",
   "version": "3.7.3"
  }
 },
 "nbformat": 4,
 "nbformat_minor": 5
}
